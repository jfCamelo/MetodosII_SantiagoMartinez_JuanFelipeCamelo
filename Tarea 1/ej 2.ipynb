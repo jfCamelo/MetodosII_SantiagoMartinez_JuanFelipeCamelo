{
 "cells": [
  {
   "cell_type": "code",
   "execution_count": 1,
   "metadata": {},
   "outputs": [],
   "source": [
    "%matplotlib ipympl\n",
    "import numpy as np\n",
    "import matplotlib.pyplot as plt\n",
    "import matplotlib.animation as anim\n",
    "from tqdm import tqdm"
   ]
  },
  {
   "cell_type": "code",
   "execution_count": 2,
   "metadata": {},
   "outputs": [],
   "source": [
    "class Esfera:\n",
    "    \n",
    "    def __init__(self, r0, v0, a0, t, m=1, radius=2., Id=0):\n",
    "        \n",
    "        self.dt = t[1] - t[0]\n",
    "        \n",
    "        \n",
    "        # Atributos instantaneos\n",
    "        self.r = r0\n",
    "        self.v = v0\n",
    "        self.a = a0\n",
    "        \n",
    "        self.m = m\n",
    "        self.radius = radius\n",
    "        self.Id = Id\n",
    "        \n",
    "        \n",
    "        self.p = self.m*self.v\n",
    "        \n",
    "        self.f = self.m*self.a\n",
    "        \n",
    "        # Historial\n",
    "        \n",
    "        self.R = np.zeros((len(t),len(r0)))\n",
    "        self.V = np.zeros_like(self.R)\n",
    "        self.A = np.zeros_like(self.R)\n",
    "        \n",
    "        self.F = np.zeros_like(self.R)\n",
    "        \n",
    "        self.P = np.zeros_like(self.R)\n",
    "    \n",
    "        # Fisica\n",
    "        self.K = 20.\n",
    "        \n",
    "        self.VEk = np.zeros(len(t))\n",
    "        \n",
    "    def Evolution(self,i):\n",
    "        \n",
    "        \n",
    "        self.SetPosition(i)\n",
    "        self.SetVelocity(i)\n",
    "        \n",
    "        self.a = self.f/self.m\n",
    "        \n",
    "        # Euler\n",
    "        self.r += self.dt*self.v\n",
    "        self.v += self.dt*self.a\n",
    "        \n",
    "        # Euler-Cromer\n",
    "  #      self.v += self.dt*self.a\n",
    "  #      self.r += self.dt*self.v\n",
    "        \n",
    "        \n",
    "    def CalculateForce(self,p):\n",
    "        \n",
    "        d = np.linalg.norm(self.r - p.r)\n",
    "        \n",
    "        compresion = self.radius + p.radius - d\n",
    "        #calculo de la distancia a las paredes\n",
    "        #d_pared = [self.r[i] + self.radius if self.r[i] > 0 else self.r[i] - self.radius for i in range(len(self.r))]\n",
    "        \n",
    "        if compresion >= 0:\n",
    "            \n",
    "            Fn = self.K * compresion**3\n",
    "            \n",
    "            self.n = (self.r - p.r)/d\n",
    "            \n",
    "            # Falta implementar \n",
    "            \n",
    "            self.f = np.add(self.f,Fn*self.n)\n",
    "            \n",
    "            # Aca debes agregar la energía potencial\n",
    "        \"\"\"\n",
    "        # Fuerza de paredes\n",
    "        if d_pared[0] <= -20 or d_pared[0] >= 20:\n",
    "            self.v[0] *= -1\n",
    "            \n",
    "        if d_pared[1] <= -20 or d_pared[1] >= 20:\n",
    "            self.v[1] *= -1\n",
    "            # Aca debes agregar la energía potencial\n",
    "        \"\"\"\n",
    "\n",
    "\n",
    "    # Setter\n",
    "    def SetPosition(self,i):\n",
    "        self.R[i] = self.r\n",
    "    \n",
    "    def SetVelocity(self,i):\n",
    "        self.V[i] = self.v\n",
    "        self.P[i] = self.m*self.v\n",
    "        self.VEk[i] = 0.5*self.m*np.dot(self.v,self.v)\n",
    "    \n",
    "    # Getter\n",
    "    def GetPosition(self,scale=1):\n",
    "        return self.R[::scale]\n",
    "    \n",
    "    def GetVelocity(self,scale=1):\n",
    "        return self.V[::scale]\n",
    " \n",
    "    def GetMomentum(self,scale=1):\n",
    "        return self.P[::scale]\n",
    "    \n",
    "    def GetKineticEnergy(self,scale=1):\n",
    "        return self.VEk[::scale]\n",
    "\n",
    "    def GetForce(self,scale=1):\n",
    "        return self.F[::scale]\n",
    "    \n",
    "    # Debes agregar las paredes en este punto"
   ]
  },
  {
   "cell_type": "code",
   "execution_count": 3,
   "metadata": {},
   "outputs": [],
   "source": [
    "def GetEsferas(N,t):\n",
    "\n",
    "    Esferas = []\n",
    "\n",
    "    for i in range(10):\n",
    "        r0 = np.array([np.random.uniform(-20,20),np.random.uniform(-20,20)])\n",
    "        v0 = np.array([np.random.uniform(-5,5),np.random.uniform(-5,5)])\n",
    "        a0 = np.array([0.,0.])\n",
    "        p = Esfera(r0,v0,a0,t,m=1,radius=2,Id=i)\n",
    "        Esferas.append(p)\n",
    "    \n",
    "    # Aca deber agregar una rutina montecarlo para crear particulas\n",
    "    # sobre el plano con velocidades aleatorias.\n",
    "    \n",
    "    return Esferas"
   ]
  },
  {
   "cell_type": "code",
   "execution_count": 4,
   "metadata": {},
   "outputs": [],
   "source": [
    "dt = 0.001\n",
    "tmax = 1\n",
    "t = np.arange(0,tmax,dt)\n",
    "Esferas = GetEsferas(1,t)"
   ]
  },
  {
   "cell_type": "code",
   "execution_count": 5,
   "metadata": {},
   "outputs": [],
   "source": [
    "def RunSimulation(t,Esferas):\n",
    "    \n",
    "    for it in tqdm(range(len(t)), desc='Running simulation', unit=' Steps' ):\n",
    "        \n",
    "        for i in range(len(Esferas)):\n",
    "            for j in range(len(Esferas)):\n",
    "                if i!=j:\n",
    "                    Esferas[i].CalculateForce(Esferas[j])\n",
    "        \n",
    "        for i in range(len(Esferas)):\n",
    "            Esferas[i].Evolution(it)\n",
    "            # Aca debes agregar la interaccion con la pared\n",
    "            \n",
    "            \n",
    "    return Esferas"
   ]
  },
  {
   "cell_type": "code",
   "execution_count": 6,
   "metadata": {},
   "outputs": [
    {
     "name": "stderr",
     "output_type": "stream",
     "text": [
      "Running simulation:   0%|          | 0/1000 [00:00<?, ? Steps/s]"
     ]
    },
    {
     "name": "stderr",
     "output_type": "stream",
     "text": [
      "Running simulation: 100%|██████████| 1000/1000 [00:00<00:00, 2399.11 Steps/s]\n"
     ]
    }
   ],
   "source": [
    "Esferas = RunSimulation(t,Esferas)"
   ]
  },
  {
   "cell_type": "code",
   "execution_count": 7,
   "metadata": {},
   "outputs": [],
   "source": [
    "# Bajamos dimensión de la simulacion\n",
    "scale = 50\n",
    "t1 = t[::scale]"
   ]
  },
  {
   "cell_type": "code",
   "execution_count": 8,
   "metadata": {},
   "outputs": [
    {
     "data": {
      "application/vnd.jupyter.widget-view+json": {
       "model_id": "677a9ad85cc9425e8e46d99b2ea16c10",
       "version_major": 2,
       "version_minor": 0
      },
      "image/png": "[encoded data removed]",
      "text/html": [
       "\n",
       "            <div style=\"display: inline-block;\">\n",
       "                <div class=\"jupyter-widgets widget-label\" style=\"text-align: center;\">\n",
       "                    Figure\n",
       "                </div>\n",
       "                <img src='data:image/png;base64,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' width=1000.0/>\n",
       "            </div>\n",
       "        "
      ],
      "text/plain": [
       "Canvas(toolbar=Toolbar(toolitems=[('Home', 'Reset original view', 'home', 'home'), ('Back', 'Back to previous …"
      ]
     },
     "metadata": {},
     "output_type": "display_data"
    }
   ],
   "source": [
    "fig = plt.figure(figsize=(10, 5))\n",
    "ax = fig.add_subplot(221)\n",
    "ax1 = fig.add_subplot(222)\n",
    "ax2 = fig.add_subplot(223)\n",
    "ax3 = fig.add_subplot(224)\n",
    "\n",
    "def init():\n",
    "    ax.clear()\n",
    "    ax.set_xlim(-20, 20)\n",
    "    ax.set_ylim(-20, 20)\n",
    "\n",
    "def Update(i):\n",
    "    init()\n",
    "    ax.set_title(r't =  %.3f s' % (t1[i]))\n",
    "\n",
    "    KE = 0.0  # Kinetic energy\n",
    "    P = 0.0  # Momentum\n",
    "    F = 0.0  # Force\n",
    "\n",
    "    for p in Esferas:\n",
    "        x = p.GetPosition(scale)[i, 0]\n",
    "        y = p.GetPosition(scale)[i, 1]\n",
    "\n",
    "        vx = p.GetVelocity(scale)[i, 0]\n",
    "        vy = p.GetVelocity(scale)[i, 1]\n",
    "\n",
    "        circle = plt.Circle((x, y), p.radius, color='r', fill=False)\n",
    "        ax.add_patch(circle)\n",
    "\n",
    "        ax.arrow(x, y, vx, vy, color='k', head_width=0.5, length_includes_head=True)\n",
    "\n",
    "        KE += p.GetKineticEnergy(scale)[i]\n",
    "\n",
    "        ax1.set_title(r'Total kinetic Energy: {:.3f}'.format(KE))\n",
    "        ax1.scatter(t1[:i], p.GetKineticEnergy(scale)[:i], color='k', marker='.')\n",
    "\n",
    "        P += p.GetMomentum(scale)[i]\n",
    "        ax2.set_title(r'Total momentum: {:.3f}'.format(P))\n",
    "        ax2.scatter(t1[:i], p.GetMomentum(scale)[:i], color='k', marker='.')\n",
    "\n",
    "        F += F.GetForce(scale)[i]\n",
    "        ax3.set_title(r'Total Force: {:.3f}'.format(F))\n",
    "        ax3.scatter(t1[:i], p.GetForce(scale)[:i], color='k', marker='.')\n",
    "\n",
    "    # Use ax2 for the third subplot\n",
    "\n",
    "Animation = anim.FuncAnimation(fig, Update, frames=len(t1), init_func=init)\n",
    "plt.show()\n"
   ]
  }
 ],
 "metadata": {
  "kernelspec": {
   "display_name": "Python 3",
   "language": "python",
   "name": "python3"
  },
  "language_info": {
   "codemirror_mode": {
    "name": "ipython",
    "version": 3
   },
   "file_extension": ".py",
   "mimetype": "text/x-python",
   "name": "python",
   "nbconvert_exporter": "python",
   "pygments_lexer": "ipython3",
   "version": "3.10.11"
  }
 },
 "nbformat": 4,
 "nbformat_minor": 2
}
