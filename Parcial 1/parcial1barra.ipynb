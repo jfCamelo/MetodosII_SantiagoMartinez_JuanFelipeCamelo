{
 "cells": [
  {
   "cell_type": "code",
   "execution_count": 72,
   "metadata": {},
   "outputs": [],
   "source": [
    "import numpy as np\n",
    "import matplotlib.pyplot as plt\n",
    "from scipy import integrate"
   ]
  },
  {
   "cell_type": "code",
   "execution_count": 73,
   "metadata": {},
   "outputs": [],
   "source": [
    "w0 = 1\n",
    "w = 0.3"
   ]
  },
  {
   "cell_type": "code",
   "execution_count": 74,
   "metadata": {},
   "outputs": [],
   "source": [
    "h = 0.01\n",
    "t = np.linspace(0,1,200)"
   ]
  },
  {
   "cell_type": "code",
   "execution_count": 75,
   "metadata": {},
   "outputs": [],
   "source": [
    "def System(r,t):\n",
    "\n",
    "    g = 9.81\n",
    "    L = 1\n",
    "\n",
    "    o,vo = r\n",
    "\n",
    "    dodt  = vo\n",
    "    dvodt = (2*g/L-np.square(vo)*np.cos(o))*np.sin(o)/(1/3+np.sin(o)**2)\n",
    "\n",
    "    return [dodt,dvodt]"
   ]
  },
  {
   "cell_type": "code",
   "execution_count": 76,
   "metadata": {},
   "outputs": [],
   "source": [
    "def Integrator2(f,r0,t):\n",
    "\n",
    "    h = t[1]-t[0]\n",
    "\n",
    "    o = np.zeros(len(t))\n",
    "    vo = np.zeros(len(t))\n",
    "\n",
    "    o[0] = r0[0]\n",
    "    vo[0] = r0[1]\n",
    "\n",
    "    K1 = np.zeros(2)\n",
    "    K2 = np.zeros(2)\n",
    "\n",
    "\n",
    "    for i in range(1,len(t)):\n",
    "        \n",
    "        R = np.array([o[i-1],vo[i-1]])\n",
    "\n",
    "        K1 = f(R,t[i-1])\n",
    "\n",
    "        R = np.array([o[i-1]+h*K1[0],vo[i-1]+h*K1[1]])\n",
    "\n",
    "        K2 = f(R,t[i])\n",
    "\n",
    "        o[i] = o[i-1] + h/2*(K1[0]+K2[0])\n",
    "\n",
    "        vo[i] = vo[i-1] + h/2*(K1[1]+K2[1])\n",
    "\n",
    "        if o[i] > np.pi/2:\n",
    "           return o,vo\n",
    "                    \n",
    "    return o,vo"
   ]
  },
  {
   "cell_type": "code",
   "execution_count": 77,
   "metadata": {},
   "outputs": [],
   "source": [
    "r0 = [10.*np.pi/180,0.]"
   ]
  },
  {
   "cell_type": "code",
   "execution_count": 78,
   "metadata": {},
   "outputs": [],
   "source": [
    "o,vo = Integrator2(System,r0,t)\n",
    "sol = integrate.odeint(System,r0,t)"
   ]
  },
  {
   "cell_type": "code",
   "execution_count": 79,
   "metadata": {},
   "outputs": [],
   "source": [
    "L = 1\n",
    "y = L/2*np.cos(o)\n",
    "x = L/2*np.sin(o)\n",
    "\n",
    "x2 = []\n",
    "y2 = []\n",
    "\n",
    "time = True\n",
    "for i in range(len(x)):\n",
    "    if x[i] != 0:\n",
    "        x2.append(x[i])\n",
    "        y2.append(y[i])\n",
    "    elif time:\n",
    "        time = False\n",
    "        tf = t[i]"
   ]
  },
  {
   "cell_type": "code",
   "execution_count": 80,
   "metadata": {},
   "outputs": [],
   "source": [
    "xi = L/2*np.sin(sol[:,0])\n",
    "yi = L/2*np.cos(sol[:,0])"
   ]
  },
  {
   "cell_type": "code",
   "execution_count": 81,
   "metadata": {},
   "outputs": [
    {
     "data": {
      "text/plain": [
       "<matplotlib.collections.PathCollection at 0x1ef2e069420>"
      ]
     },
     "execution_count": 81,
     "metadata": {},
     "output_type": "execute_result"
    },
    {
     "data": {
      "image/png": "[encoded data removed]",
      "text/plain": [
       "<Figure size 640x480 with 1 Axes>"
      ]
     },
     "metadata": {},
     "output_type": "display_data"
    }
   ],
   "source": [
    "plt.scatter(x2,y2)\n",
    "#plt.scatter(xi,yi)\n",
    "#ax.scatter(sol[:,0],sol[:,1],sol[:,2])"
   ]
  },
  {
   "cell_type": "code",
   "execution_count": 82,
   "metadata": {},
   "outputs": [
    {
     "data": {
      "text/plain": [
       "0.5226130653266332"
      ]
     },
     "execution_count": 82,
     "metadata": {},
     "output_type": "execute_result"
    }
   ],
   "source": [
    "tf"
   ]
  },
  {
   "cell_type": "markdown",
   "metadata": {},
   "source": [
    "El tiempo que le toma a la barra en llegar al piso es: 0.5226s"
   ]
  }
 ],
 "metadata": {
  "kernelspec": {
   "display_name": "Python 3",
   "language": "python",
   "name": "python3"
  },
  "language_info": {
   "codemirror_mode": {
    "name": "ipython",
    "version": 3
   },
   "file_extension": ".py",
   "mimetype": "text/x-python",
   "name": "python",
   "nbconvert_exporter": "python",
   "pygments_lexer": "ipython3",
   "version": "3.10.11"
  }
 },
 "nbformat": 4,
 "nbformat_minor": 2
}
