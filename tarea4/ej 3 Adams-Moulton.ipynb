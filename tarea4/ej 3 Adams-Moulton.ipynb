{
 "cells": [
  {
   "cell_type": "code",
   "execution_count": 1,
   "id": "798d3f1c",
   "metadata": {},
   "outputs": [],
   "source": [
    "import numpy as np\n",
    "import sympy as sym"
   ]
  },
  {
   "cell_type": "code",
   "execution_count": 2,
   "id": "f668d98c",
   "metadata": {},
   "outputs": [],
   "source": [
    "t = sym.Symbol('t', Real = True)\n",
    "h = sym.Symbol('h', Real = True)"
   ]
  },
  {
   "cell_type": "code",
   "execution_count": 3,
   "id": "4f585241",
   "metadata": {},
   "outputs": [],
   "source": [
    "#Adams-Moulton\n",
    "\n",
    "#Orden 3\n",
    "\n",
    "B1 = ( t - 0 )/h * ( t - (-h) )/(2*h)\n",
    "B2 = ( t - h )/(-h) * ( t - (-h) )/(h)\n",
    "B3 = ( t - h )/(-2*h) * ( t - 0 )/(-h)"
   ]
  },
  {
   "cell_type": "code",
   "execution_count": 4,
   "id": "8b1c9ac1",
   "metadata": {},
   "outputs": [
    {
     "data": {
      "text/latex": [
       "$\\displaystyle \\frac{5 h}{12}$"
      ],
      "text/plain": [
       "5*h/12"
      ]
     },
     "execution_count": 4,
     "metadata": {},
     "output_type": "execute_result"
    }
   ],
   "source": [
    "I1 = sym.integrate(B1,(t,0,h))\n",
    "I1"
   ]
  },
  {
   "cell_type": "code",
   "execution_count": 5,
   "id": "277746f2",
   "metadata": {},
   "outputs": [
    {
     "data": {
      "text/latex": [
       "$\\displaystyle \\frac{2 h}{3}$"
      ],
      "text/plain": [
       "2*h/3"
      ]
     },
     "execution_count": 5,
     "metadata": {},
     "output_type": "execute_result"
    }
   ],
   "source": [
    "I2 = sym.integrate(B2,(t,0,h))\n",
    "I2"
   ]
  },
  {
   "cell_type": "code",
   "execution_count": 6,
   "id": "c397962f",
   "metadata": {},
   "outputs": [
    {
     "data": {
      "text/latex": [
       "$\\displaystyle - \\frac{h}{12}$"
      ],
      "text/plain": [
       "-h/12"
      ]
     },
     "execution_count": 6,
     "metadata": {},
     "output_type": "execute_result"
    }
   ],
   "source": [
    "I3 = sym.integrate(B3,(t,0,h))\n",
    "I3"
   ]
  },
  {
   "cell_type": "code",
   "execution_count": 7,
   "id": "e8b65333",
   "metadata": {},
   "outputs": [],
   "source": [
    "#Adams-Moulton\n",
    "\n",
    "#Orden 4\n",
    "\n",
    "B1 = ( t - 0 )/h * ( t - (-h) )/(2*h) * ( t - (-2*h) )/(3*h)\n",
    "B2 = ( t - h )/(-h) * ( t - (-h) )/(h) * ( t - (-2*h) )/(2*h)\n",
    "B3 = ( t - h )/(-2*h) * ( t - 0 )/(-h) * ( t - (-2*h) )/(h)\n",
    "B4 = ( t - h )/(-3*h) * ( t - 0 )/(-2*h) * ( t - (-h) )/(-h)"
   ]
  },
  {
   "cell_type": "code",
   "execution_count": 8,
   "id": "6e37ef33",
   "metadata": {},
   "outputs": [
    {
     "data": {
      "text/latex": [
       "$\\displaystyle \\frac{3 h}{8}$"
      ],
      "text/plain": [
       "3*h/8"
      ]
     },
     "execution_count": 8,
     "metadata": {},
     "output_type": "execute_result"
    }
   ],
   "source": [
    "I1 = sym.integrate(B1,(t,0,h))\n",
    "I1"
   ]
  },
  {
   "cell_type": "code",
   "execution_count": 9,
   "id": "4c350580",
   "metadata": {},
   "outputs": [
    {
     "data": {
      "text/latex": [
       "$\\displaystyle \\frac{19 h}{24}$"
      ],
      "text/plain": [
       "19*h/24"
      ]
     },
     "execution_count": 9,
     "metadata": {},
     "output_type": "execute_result"
    }
   ],
   "source": [
    "I2 = sym.integrate(B2,(t,0,h))\n",
    "I2"
   ]
  },
  {
   "cell_type": "code",
   "execution_count": 10,
   "id": "4e91422b",
   "metadata": {},
   "outputs": [
    {
     "data": {
      "text/latex": [
       "$\\displaystyle - \\frac{5 h}{24}$"
      ],
      "text/plain": [
       "-5*h/24"
      ]
     },
     "execution_count": 10,
     "metadata": {},
     "output_type": "execute_result"
    }
   ],
   "source": [
    "I3 = sym.integrate(B3,(t,0,h))\n",
    "I3"
   ]
  },
  {
   "cell_type": "code",
   "execution_count": 11,
   "id": "6482ec26",
   "metadata": {},
   "outputs": [
    {
     "data": {
      "text/latex": [
       "$\\displaystyle \\frac{h}{24}$"
      ],
      "text/plain": [
       "h/24"
      ]
     },
     "execution_count": 11,
     "metadata": {},
     "output_type": "execute_result"
    }
   ],
   "source": [
    "I4 = sym.integrate(B4,(t,0,h))\n",
    "I4"
   ]
  },
  {
   "cell_type": "code",
   "execution_count": null,
   "id": "7d0ed310",
   "metadata": {},
   "outputs": [],
   "source": []
  },
  {
   "cell_type": "code",
   "execution_count": null,
   "id": "0b96d486",
   "metadata": {},
   "outputs": [],
   "source": []
  }
 ],
 "metadata": {
  "kernelspec": {
   "display_name": "Python 3 (ipykernel)",
   "language": "python",
   "name": "python3"
  },
  "language_info": {
   "codemirror_mode": {
    "name": "ipython",
    "version": 3
   },
   "file_extension": ".py",
   "mimetype": "text/x-python",
   "name": "python",
   "nbconvert_exporter": "python",
   "pygments_lexer": "ipython3",
   "version": "3.11.5"
  }
 },
 "nbformat": 4,
 "nbformat_minor": 5
}
