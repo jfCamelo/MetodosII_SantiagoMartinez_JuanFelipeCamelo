{
 "cells": [
  {
   "cell_type": "code",
   "execution_count": 1,
   "id": "798d3f1c",
   "metadata": {},
   "outputs": [],
   "source": [
    "import numpy as np\n",
    "import sympy as sym"
   ]
  },
  {
   "cell_type": "code",
   "execution_count": 2,
   "id": "f668d98c",
   "metadata": {},
   "outputs": [],
   "source": [
    "t = sym.Symbol('t', Real = True)\n",
    "h = sym.Symbol('h', Real = True)"
   ]
  },
  {
   "cell_type": "code",
   "execution_count": 3,
   "id": "4f585241",
   "metadata": {},
   "outputs": [],
   "source": [
    "#Adams-Bashford\n",
    "\n",
    "#Orden 3\n",
    "\n",
    "B1 = ( t - (-h) )/h * ( t - (-2*h) )/(2*h)\n",
    "B2 = ( t - 0 )/(-h) * ( t - (-2*h) )/(h)\n",
    "B3 = ( t - 0 )/(-2*h) * ( t - (-h) )/(-h)"
   ]
  },
  {
   "cell_type": "code",
   "execution_count": 4,
   "id": "8b1c9ac1",
   "metadata": {},
   "outputs": [
    {
     "data": {
      "text/latex": [
       "$\\displaystyle \\frac{23 h}{12}$"
      ],
      "text/plain": [
       "23*h/12"
      ]
     },
     "execution_count": 4,
     "metadata": {},
     "output_type": "execute_result"
    }
   ],
   "source": [
    "I1 = sym.integrate(B1,(t,0,h))\n",
    "I1"
   ]
  },
  {
   "cell_type": "code",
   "execution_count": 5,
   "id": "277746f2",
   "metadata": {},
   "outputs": [
    {
     "data": {
      "text/latex": [
       "$\\displaystyle - \\frac{4 h}{3}$"
      ],
      "text/plain": [
       "-4*h/3"
      ]
     },
     "execution_count": 5,
     "metadata": {},
     "output_type": "execute_result"
    }
   ],
   "source": [
    "I2 = sym.integrate(B2,(t,0,h))\n",
    "I2"
   ]
  },
  {
   "cell_type": "code",
   "execution_count": 6,
   "id": "c397962f",
   "metadata": {},
   "outputs": [
    {
     "data": {
      "text/latex": [
       "$\\displaystyle \\frac{5 h}{12}$"
      ],
      "text/plain": [
       "5*h/12"
      ]
     },
     "execution_count": 6,
     "metadata": {},
     "output_type": "execute_result"
    }
   ],
   "source": [
    "I3 = sym.integrate(B3,(t,0,h))\n",
    "I3"
   ]
  },
  {
   "cell_type": "code",
   "execution_count": 9,
   "id": "614426f3",
   "metadata": {},
   "outputs": [],
   "source": [
    "#Adams-Bashford\n",
    "\n",
    "#Orden 4\n",
    "\n",
    "B1 = ( t - (-h) )/h * ( t - (-2*h) )/(2*h) * ( t - (-3*h) )/(3*h)\n",
    "B2 = ( t - 0 )/(-h) * ( t - (-2*h) )/(h) * ( t - (-3*h) )/(2*h)\n",
    "B3 = ( t - 0 )/(-2*h) * ( t - (-h) )/(-h) * ( t - (-3*h) )/(h)\n",
    "B4 = ( t - 0 )/(-3*h) * ( t - (-h) )/(-2*h) * ( t - (-2*h) )/(-h)"
   ]
  },
  {
   "cell_type": "code",
   "execution_count": 10,
   "id": "6e37ef33",
   "metadata": {},
   "outputs": [
    {
     "data": {
      "text/latex": [
       "$\\displaystyle \\frac{55 h}{24}$"
      ],
      "text/plain": [
       "55*h/24"
      ]
     },
     "execution_count": 10,
     "metadata": {},
     "output_type": "execute_result"
    }
   ],
   "source": [
    "I1 = sym.integrate(B1,(t,0,h))\n",
    "I1"
   ]
  },
  {
   "cell_type": "code",
   "execution_count": 11,
   "id": "4c350580",
   "metadata": {},
   "outputs": [
    {
     "data": {
      "text/latex": [
       "$\\displaystyle - \\frac{59 h}{24}$"
      ],
      "text/plain": [
       "-59*h/24"
      ]
     },
     "execution_count": 11,
     "metadata": {},
     "output_type": "execute_result"
    }
   ],
   "source": [
    "I2 = sym.integrate(B2,(t,0,h))\n",
    "I2"
   ]
  },
  {
   "cell_type": "code",
   "execution_count": 12,
   "id": "4e91422b",
   "metadata": {},
   "outputs": [
    {
     "data": {
      "text/latex": [
       "$\\displaystyle \\frac{37 h}{24}$"
      ],
      "text/plain": [
       "37*h/24"
      ]
     },
     "execution_count": 12,
     "metadata": {},
     "output_type": "execute_result"
    }
   ],
   "source": [
    "I3 = sym.integrate(B3,(t,0,h))\n",
    "I3"
   ]
  },
  {
   "cell_type": "code",
   "execution_count": 13,
   "id": "6482ec26",
   "metadata": {},
   "outputs": [
    {
     "data": {
      "text/latex": [
       "$\\displaystyle - \\frac{3 h}{8}$"
      ],
      "text/plain": [
       "-3*h/8"
      ]
     },
     "execution_count": 13,
     "metadata": {},
     "output_type": "execute_result"
    }
   ],
   "source": [
    "I4 = sym.integrate(B4,(t,0,h))\n",
    "I4"
   ]
  },
  {
   "cell_type": "code",
   "execution_count": null,
   "id": "7d0ed310",
   "metadata": {},
   "outputs": [],
   "source": []
  },
  {
   "cell_type": "code",
   "execution_count": null,
   "id": "beeb7a59",
   "metadata": {},
   "outputs": [],
   "source": []
  }
 ],
 "metadata": {
  "kernelspec": {
   "display_name": "Python 3 (ipykernel)",
   "language": "python",
   "name": "python3"
  },
  "language_info": {
   "codemirror_mode": {
    "name": "ipython",
    "version": 3
   },
   "file_extension": ".py",
   "mimetype": "text/x-python",
   "name": "python",
   "nbconvert_exporter": "python",
   "pygments_lexer": "ipython3",
   "version": "3.11.5"
  }
 },
 "nbformat": 4,
 "nbformat_minor": 5
}
